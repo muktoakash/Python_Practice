{
 "cells": [
  {
   "cell_type": "markdown",
   "metadata": {},
   "source": [
    "# Python: The early days of Learning\n",
    "\n",
    "The codes included here comes from various problems that I solved when learning Python for the first time. Just like the codes in [\"Beginning Python\"](https://github.com/muktoakash/Python_Practice/blob/master/Beginning_Python.ipynb), these programs and functions are fairly straight-forward, and are uploaded here for my reference. Once again, there may be a bit of conflicting styles in the way the code is commented."
   ]
  }
 ],
 "metadata": {
  "kernelspec": {
   "display_name": "Python 3",
   "language": "python",
   "name": "python3"
  },
  "language_info": {
   "codemirror_mode": {
    "name": "ipython",
    "version": 3
   },
   "file_extension": ".py",
   "mimetype": "text/x-python",
   "name": "python",
   "nbconvert_exporter": "python",
   "pygments_lexer": "ipython3",
   "version": "3.8.3"
  }
 },
 "nbformat": 4,
 "nbformat_minor": 4
}
